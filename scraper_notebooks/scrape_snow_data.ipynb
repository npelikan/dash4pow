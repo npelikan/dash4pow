{
 "cells": [
  {
   "cell_type": "code",
   "execution_count": 1,
   "metadata": {},
   "outputs": [],
   "source": [
    "import pandas as pd\n",
    "import zeep\n",
    "from functools import reduce\n",
    "import pins\n",
    "import dotenv\n",
    "import requests\n",
    "import os\n",
    "import requests\n",
    "\n",
    "dotenv.load_dotenv(\".env\")\n",
    "\n",
    "current_time = pd.Timestamp.now(tz=\"America/Denver\")\n",
    "\n",
    "board = pins.board_connect()"
   ]
  },
  {
   "cell_type": "markdown",
   "metadata": {},
   "source": [
    "# Configuration!"
   ]
  },
  {
   "cell_type": "code",
   "execution_count": 2,
   "metadata": {},
   "outputs": [],
   "source": [
    "# Pin config\n",
    "SNOTEL_PIN_NAME = \"nick.pelikan/snotel_data\"\n",
    "WX_PIN_NAME = \"nick.pelikan/wx_data\""
   ]
  },
  {
   "cell_type": "code",
   "execution_count": 2,
   "metadata": {},
   "outputs": [],
   "source": [
    "site_config = {\n",
    "    \"BCC\": {\n",
    "        \"snotel_sites\": {\n",
    "            \"366:UT:SNTL\": \"Brighton, UT\",\n",
    "            \"628:UT:SNTL\": \"Mill D, UT\",\n",
    "        },\n",
    "        \"wx_stations\": {\n",
    "            \"C99\": \"Canyons - 9990\",\n",
    "            \"REY\": \"Reynolds Peak\",\n",
    "            \"UTCDF\": \"Cardiff Trailhead\",\n",
    "            \"PC056\": \"Brighton\",\n",
    "        },\n",
    "    },\n",
    "    \"LCC\": {\n",
    "        \"snotel_sites\": {\n",
    "            \"766:UT:SNTL\": \"Snowbird, UT\",\n",
    "            \"1308:UT:SNTL\": \"Atwater Plot, UT\",\n",
    "        },\n",
    "        \"wx_stations\": {\n",
    "            \"IFF\": \"Cardiff Peak\",\n",
    "            \"PC064\": \"Albion Basin\",\n",
    "            \"AMB\": \"Alta - Baldy\",\n",
    "            \"HP\": \"Hidden Peak\",\n",
    "        },\n",
    "    },\n",
    "    \"PC\": {\n",
    "        \"snotel_sites\": {\n",
    "            \"814:UT:SNTL\": \"Thaynes Canyon, UT\",\n",
    "        },\n",
    "        \"wx_stations\": {\n",
    "            \"C99\": \"Canyons - 9990\",\n",
    "            \"CDYBK\": \"Canyons - Daybreak\",\n",
    "            \"REY\": \"Reynolds Peak\",\n",
    "        },\n",
    "    },\n",
    "}\n"
   ]
  },
  {
   "cell_type": "code",
   "execution_count": 4,
   "metadata": {},
   "outputs": [
    {
     "data": {
      "text/plain": [
       "dict_keys(['BCC', 'LCC', 'PC'])"
      ]
     },
     "execution_count": 4,
     "metadata": {},
     "output_type": "execute_result"
    }
   ],
   "source": [
    "site_config.keys()"
   ]
  },
  {
   "cell_type": "code",
   "execution_count": null,
   "metadata": {},
   "outputs": [],
   "source": [
    "\n",
    "board.pin_write(site_config, name=\"nick.pelikan/snow_sites\", type=\"json\")\n",
    "\n",
    "station_ids = {}\n",
    "snotel_sites = {}\n",
    "for d in site_config.values():\n",
    "    station_ids = station_ids | d[\"wx_stations\"]\n",
    "    snotel_sites = snotel_sites | d[\"snotel_sites\"]\n",
    "\n",
    "snotel_sensors = {\n",
    "    \"TOBS\": \"Air Temperature (F)\",\n",
    "    \"SNWD\": \"Snow Depth (in)\",\n",
    "    \"WTEQ\": \"Snow Water Eq (in)\",\n",
    "}"
   ]
  },
  {
   "cell_type": "markdown",
   "metadata": {},
   "source": [
    "# SNOTEL Data Scraping\n",
    "SNOTEL sites use a ...fun... old SOAP api. "
   ]
  },
  {
   "cell_type": "code",
   "execution_count": null,
   "metadata": {},
   "outputs": [],
   "source": [
    "def filter_valdict(d):\n",
    "    return {k:v for k,v in d.items() if k in ('dateTime', 'value')}\n",
    "\n",
    "def process_site(i, sensor_code):\n",
    "    i = zeep.helpers.serialize_object(i)\n",
    "    df = pd.DataFrame.from_records(filter_valdict(x) for x in i['values'])\n",
    "    df[\"siteCode\"] = i[\"stationTriplet\"]\n",
    "    df[\"dateTime\"] = pd.to_datetime(df[\"dateTime\"])\n",
    "    df = df.set_index([\"siteCode\", \"dateTime\"])\n",
    "    df[\"value\"] = df[\"value\"].astype(float)\n",
    "    df = df.rename(columns = {\"value\": sensor_code})\n",
    "    return df\n",
    "\n",
    "\n",
    "def get_single_sensor_data(snotel_client, site_codes, sensor_code, start_date, end_date):\n",
    "    resp = snotel_client.service.getHourlyData(\n",
    "        stationTriplets=site_codes,\n",
    "        elementCd=sensor_code,\n",
    "        ordinal=1,\n",
    "        beginDate=start_date,\n",
    "        endDate=end_date\n",
    "    )\n",
    "    return pd.concat((process_site(x, sensor_code=sensor_code) for x in resp))\n",
    "\n",
    "\n",
    "def get_snotel_data(snotel_client, site_codes, sensor_codes, start_date, end_date):\n",
    "    dfl = (\n",
    "        get_single_sensor_data(\n",
    "            snotel_client,\n",
    "            sensor_code=x,\n",
    "            site_codes=site_codes,\n",
    "            start_date=start_date,\n",
    "            end_date=end_date\n",
    "        ) for x in sensor_codes\n",
    "    )\n",
    "\n",
    "    return reduce(lambda l, r: pd.merge(l, r, left_index=True, right_index=True), dfl)\n"
   ]
  },
  {
   "cell_type": "code",
   "execution_count": null,
   "metadata": {},
   "outputs": [],
   "source": [
    "\n",
    "client = zeep.Client(\"https://wcc.sc.egov.usda.gov/awdbWebService/services?WSDL\")\n",
    "current_time = pd.Timestamp.now(tz=\"America/Denver\")\n",
    "\n",
    "try:\n",
    "    snotel_old_meta = board.pin_meta(SNOTEL_PIN_NAME)\n",
    "    lastmax = pd.to_datetime(snotel_old_meta.user[\"last_run_time\"])\n",
    "except pins.errors.PinsError:\n",
    "    lastmax = current_time - pd.Timedelta(days=60)\n",
    "\n",
    "print(f\"Getting data from {lastmax} to current\")"
   ]
  },
  {
   "cell_type": "code",
   "execution_count": null,
   "metadata": {},
   "outputs": [],
   "source": [
    "\n",
    "df = get_snotel_data(\n",
    "    client,\n",
    "    site_codes=list(snotel_sites.keys()),\n",
    "    sensor_codes=list(snotel_sensors.keys()),\n",
    "    start_date=lastmax.strftime(\"%Y-%m-%d %H:00:00\"),\n",
    "    end_date=current_time.strftime(\"%Y-%m-%d %H:00:00\"),\n",
    ").reset_index()\n",
    "\n",
    "df[\"siteName\"] = df[\"siteCode\"].replace(snotel_sites)\n",
    "df = df.reset_index()\n",
    "df = df.drop(columns=\"index\")\n",
    "print(f\"Retrieved {df.shape[0]} new rows.\")\n"
   ]
  },
  {
   "cell_type": "code",
   "execution_count": null,
   "metadata": {},
   "outputs": [],
   "source": [
    "try:\n",
    "    snotel_old = board.pin_read(SNOTEL_PIN_NAME)\n",
    "    out = pd.concat((snotel_old, df))\n",
    "except pins.errors.PinsError:\n",
    "    out = df\n",
    "\n",
    "board.pin_write(\n",
    "    out,\n",
    "    name=SNOTEL_PIN_NAME,\n",
    "    type=\"parquet\",\n",
    "    metadata={\"last_run_time\": current_time.strftime('%Y-%m-%d %X')},\n",
    ")\n",
    "\n",
    "print(f\"Successfully wrote snotel data\")"
   ]
  },
  {
   "cell_type": "markdown",
   "metadata": {},
   "source": [
    "# Weather Data Scraping"
   ]
  },
  {
   "cell_type": "code",
   "execution_count": 7,
   "metadata": {},
   "outputs": [
    {
     "data": {
      "text/plain": [
       "Timestamp('2024-02-26 09:56:54')"
      ]
     },
     "execution_count": 7,
     "metadata": {},
     "output_type": "execute_result"
    }
   ],
   "source": [
    "lastmax"
   ]
  },
  {
   "cell_type": "code",
   "execution_count": 8,
   "metadata": {},
   "outputs": [
    {
     "name": "stdout",
     "output_type": "stream",
     "text": [
      "Retrieved 128 rows of new weather data!\n"
     ]
    }
   ],
   "source": [
    "try:\n",
    "    lastmax = pd.to_datetime(board.pin_meta(WX_PIN_NAME).user[\"last_run_time\"]).tz_localize(tz=\"America/Denver\")\n",
    "    wx_req_run = int((current_time - lastmax).total_seconds() / 60)\n",
    "except pins.errors.PinsError:\n",
    "    wx_req_run = 43200\n",
    "\n",
    "def get_station_series(i):\n",
    "    df = pd.DataFrame(i[\"OBSERVATIONS\"])\n",
    "    df[\"date_time\"] = pd.to_datetime(df[\"date_time\"]).dt.tz_convert(tz=\"America/Denver\")\n",
    "    df[\"station\"] = i[\"NAME\"]\n",
    "    df[\"station_id\"] = i[\"STID\"]\n",
    "\n",
    "    return df\n",
    "\n",
    "resp = requests.get(\n",
    "    \"https://api.synopticdata.com/v2/stations/timeseries\",\n",
    "    params={\n",
    "        \"token\": os.getenv(\"SYNOPTIC_TOKEN\"),  # access token\n",
    "        \"stid\": list(station_ids.keys()),  # mesonet station ids\n",
    "        \"recent\": wx_req_run,  # time in minutes\n",
    "    },\n",
    ")\n",
    "\n",
    "j = resp.json()\n",
    "wx_df = pd.concat((get_station_series(x) for x in j[\"STATION\"]))\n",
    "wx_df[\"date_time\"] = pd.to_datetime(wx_df[\"date_time\"]).dt.tz_convert(tz=\"America/Denver\")\n",
    "\n",
    "print(f\"Retrieved {wx_df.shape[0]} rows of new weather data!\")"
   ]
  },
  {
   "cell_type": "code",
   "execution_count": 9,
   "metadata": {},
   "outputs": [
    {
     "name": "stderr",
     "output_type": "stream",
     "text": [
      "Writing pin:\n",
      "Name: 'nick.pelikan/wx_data'\n",
      "Version: 20240226T145414Z-64b39\n"
     ]
    },
    {
     "name": "stdout",
     "output_type": "stream",
     "text": [
      "Successfully wrote WX data\n"
     ]
    }
   ],
   "source": [
    "try:\n",
    "    wx_old = board.pin_read(WX_PIN_NAME)\n",
    "    wx_out = pd.concat((wx_old, wx_df))\n",
    "except pins.errors.PinsError:\n",
    "    wx_out = wx_df\n",
    "\n",
    "board.pin_write(\n",
    "    wx_out,\n",
    "    name=WX_PIN_NAME,\n",
    "    type=\"parquet\",\n",
    "    metadata={\"last_run_time\": current_time.strftime('%Y-%m-%d %X')},\n",
    ")\n",
    "\n",
    "print(f\"Successfully wrote WX data\")"
   ]
  },
  {
   "cell_type": "code",
   "execution_count": 10,
   "metadata": {},
   "outputs": [
    {
     "data": {
      "text/plain": [
       "{'BCC': {'snotel_sites': {'366:UT:SNTL': 'Brighton, UT',\n",
       "   '628:UT:SNTL': 'Mill D, UT'},\n",
       "  'wx_stations': {'C99': 'Canyons - 9990',\n",
       "   'REY': 'Reynolds Peak',\n",
       "   'UTCDF': 'Cardiff Trailhead',\n",
       "   'PC056': 'Brighton'}},\n",
       " 'LCC': {'snotel_sites': {'766:UT:SNTL': 'Snowbird, UT',\n",
       "   '1308:UT:SNTL': 'Atwater Plot, UT'},\n",
       "  'wx_stations': {'IFF': 'Cardiff Peak',\n",
       "   'PC064': 'Albion Basin',\n",
       "   'AMB': 'Alta - Baldy',\n",
       "   'HP': 'Hidden Peak'}},\n",
       " 'PC': {'snotel_sites': {'814:UT:SNTL': 'Thaynes Canyon, UT'},\n",
       "  'wx_stations': {'C99': 'Canyons - 9990',\n",
       "   'CDYBK': 'Canyons - Daybreak',\n",
       "   'REY': 'Reynolds Peak'}}}"
      ]
     },
     "execution_count": 10,
     "metadata": {},
     "output_type": "execute_result"
    }
   ],
   "source": [
    "board.pin_read(\"nick.pelikan/snow_sites\")"
   ]
  },
  {
   "cell_type": "code",
   "execution_count": 4,
   "metadata": {},
   "outputs": [
    {
     "data": {
      "text/plain": [
       "'6af462c17551cbe0'"
      ]
     },
     "execution_count": 4,
     "metadata": {},
     "output_type": "execute_result"
    }
   ],
   "source": [
    "m = board.pin_meta(\"nick.pelikan/snow_sites\")\n",
    "m.pin_hash"
   ]
  },
  {
   "cell_type": "code",
   "execution_count": 1,
   "metadata": {},
   "outputs": [
    {
     "ename": "NameError",
     "evalue": "name 'site_config' is not defined",
     "output_type": "error",
     "traceback": [
      "\u001b[0;31m---------------------------------------------------------------------------\u001b[0m",
      "\u001b[0;31mNameError\u001b[0m                                 Traceback (most recent call last)",
      "Cell \u001b[0;32mIn[1], line 1\u001b[0m\n\u001b[0;32m----> 1\u001b[0m \u001b[43msite_config\u001b[49m\u001b[38;5;241m.\u001b[39mvalues()\n",
      "\u001b[0;31mNameError\u001b[0m: name 'site_config' is not defined"
     ]
    }
   ],
   "source": []
  }
 ],
 "metadata": {
  "kernelspec": {
   "display_name": ".venv",
   "language": "python",
   "name": "python3"
  },
  "language_info": {
   "codemirror_mode": {
    "name": "ipython",
    "version": 3
   },
   "file_extension": ".py",
   "mimetype": "text/x-python",
   "name": "python",
   "nbconvert_exporter": "python",
   "pygments_lexer": "ipython3",
   "version": "3.10.10"
  }
 },
 "nbformat": 4,
 "nbformat_minor": 2
}
